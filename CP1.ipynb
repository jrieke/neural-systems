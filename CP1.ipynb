{
 "cells": [
  {
   "cell_type": "markdown",
   "metadata": {},
   "source": [
    "# Solution by Johannes Rieke & Nelson Niemeyer"
   ]
  },
  {
   "cell_type": "code",
   "execution_count": 1,
   "metadata": {
    "collapsed": true
   },
   "outputs": [],
   "source": [
    "import numpy as np\n",
    "import matplotlib.pyplot as plt\n",
    "%matplotlib inline"
   ]
  },
  {
   "cell_type": "markdown",
   "metadata": {},
   "source": [
    "## 1. McCulloch-Pitts Neuron"
   ]
  },
  {
   "cell_type": "code",
   "execution_count": 2,
   "metadata": {
    "collapsed": true
   },
   "outputs": [],
   "source": [
    "def y(w, x):\n",
    "    return np.sign(np.inner(w, x))"
   ]
  },
  {
   "cell_type": "code",
   "execution_count": 3,
   "metadata": {
    "collapsed": false
   },
   "outputs": [],
   "source": [
    "w = np.array([-3, 2, 2])"
   ]
  },
  {
   "cell_type": "code",
   "execution_count": 4,
   "metadata": {
    "collapsed": false
   },
   "outputs": [
    {
     "data": {
      "text/plain": [
       "1"
      ]
     },
     "execution_count": 4,
     "metadata": {},
     "output_type": "execute_result"
    }
   ],
   "source": [
    "x1 = 1\n",
    "x2 = 1\n",
    "y(w, np.array([1, x1, x2]))"
   ]
  },
  {
   "cell_type": "code",
   "execution_count": 5,
   "metadata": {
    "collapsed": false
   },
   "outputs": [
    {
     "data": {
      "text/plain": [
       "-1"
      ]
     },
     "execution_count": 5,
     "metadata": {},
     "output_type": "execute_result"
    }
   ],
   "source": [
    "x1 = 1\n",
    "x2 = -1\n",
    "y(w, np.array([1, x1, x2]))"
   ]
  },
  {
   "cell_type": "code",
   "execution_count": 6,
   "metadata": {
    "collapsed": false
   },
   "outputs": [
    {
     "data": {
      "text/plain": [
       "-1"
      ]
     },
     "execution_count": 6,
     "metadata": {},
     "output_type": "execute_result"
    }
   ],
   "source": [
    "x1 = -1\n",
    "x2 = 1\n",
    "y(w, np.array([1, x1, x2]))"
   ]
  },
  {
   "cell_type": "code",
   "execution_count": 7,
   "metadata": {
    "collapsed": false
   },
   "outputs": [
    {
     "data": {
      "text/plain": [
       "-1"
      ]
     },
     "execution_count": 7,
     "metadata": {},
     "output_type": "execute_result"
    }
   ],
   "source": [
    "x1 = -1\n",
    "x2 = -1\n",
    "y(w, np.array([1, x1, x2]))"
   ]
  },
  {
   "cell_type": "markdown",
   "metadata": {},
   "source": [
    "The outputs above show that the neuron yields 1 if both inputs are 1 and -1 otherwise. This is an AND operation."
   ]
  },
  {
   "cell_type": "markdown",
   "metadata": {},
   "source": [
    "## 2. Activation functions"
   ]
  },
  {
   "cell_type": "code",
   "execution_count": 8,
   "metadata": {
    "collapsed": false
   },
   "outputs": [
    {
     "data": {
      "text/plain": [
       "(-5, 5)"
      ]
     },
     "execution_count": 8,
     "metadata": {},
     "output_type": "execute_result"
    },
    {
     "data": {
      "image/png": "[encoded data removed]",
      "text/plain": [
       "<matplotlib.figure.Figure at 0x31950f0>"
      ]
     },
     "metadata": {},
     "output_type": "display_data"
    }
   ],
   "source": [
    "x = np.linspace(-5, 5, 1000)\n",
    "\n",
    "a = 1\n",
    "def sigmoid(x, a=1):\n",
    "    return 2. / (1 + np.exp(-a*x)) - 1\n",
    "plt.plot(x, sigmoid(x, a), label='Sigmoid (a={})'.format(a))\n",
    "\n",
    "plt.plot(x, np.tanh(x), label='Tanh')\n",
    "\n",
    "def step(x):    \n",
    "    y = np.zeros_like(x)\n",
    "    y[x >= 0] = 1.\n",
    "    y[x < 0] = -1\n",
    "    return y\n",
    "plt.plot(x, step(x), label='Step')\n",
    "\n",
    "def picewise(x):    \n",
    "    y = np.array(x)\n",
    "    y[x >= 1] = 1.\n",
    "    y[x <= -1] = -1\n",
    "    return y\n",
    "plt.plot(x, picewise(x), label='Picewise')\n",
    "\n",
    "plt.xlabel('x')\n",
    "plt.ylabel('y')\n",
    "plt.legend(loc='lower right')\n",
    "plt.xlim(-5, 5)"
   ]
  },
  {
   "cell_type": "markdown",
   "metadata": {},
   "source": [
    "Interpretation of parameter a: The higher a, the steeper is the sigmoid function."
   ]
  },
  {
   "cell_type": "markdown",
   "metadata": {},
   "source": [
    "## 3. Rosenblatt's perceptron"
   ]
  },
  {
   "cell_type": "code",
   "execution_count": 9,
   "metadata": {
    "collapsed": false
   },
   "outputs": [
    {
     "data": {
      "text/plain": [
       "array([[ 1.        ,  0.47298823, -0.45346102],\n",
       "       [ 1.        , -0.0262628 , -2.19166418],\n",
       "       [ 1.        ,  0.56182488,  1.05540148],\n",
       "       ..., \n",
       "       [ 1.        , -1.0285313 ,  0.88563189],\n",
       "       [ 1.        , -1.31811047,  0.62346252],\n",
       "       [ 1.        , -0.41028856, -1.02849119]])"
      ]
     },
     "execution_count": 9,
     "metadata": {},
     "output_type": "execute_result"
    }
   ],
   "source": [
    "x_train = np.random.normal(size=(1000, 3))\n",
    "x_train[:, 0] = 1.\n",
    "x_train"
   ]
  },
  {
   "cell_type": "code",
   "execution_count": 10,
   "metadata": {
    "collapsed": false
   },
   "outputs": [
    {
     "data": {
      "text/plain": [
       "array([-1., -1.,  1., -1.,  1., -1.,  1., -1., -1.,  1.])"
      ]
     },
     "execution_count": 10,
     "metadata": {},
     "output_type": "execute_result"
    }
   ],
   "source": [
    "d_train = np.ones(1000)\n",
    "d_train[x_train[:, 1] + x_train[:, 2] < 0.5] = -1.\n",
    "d_train[:10]"
   ]
  },
  {
   "cell_type": "code",
   "execution_count": 11,
   "metadata": {
    "collapsed": false
   },
   "outputs": [
    {
     "data": {
      "text/plain": [
       "[array([ 0.12958205,  0.17681624,  0.4867229 ]),\n",
       " array([ 0.12958205,  0.17681624,  0.4867229 ]),\n",
       " array([ 0.12958205,  0.17681624,  0.4867229 ]),\n",
       " array([ 0.11958205,  0.18253201,  0.48389972]),\n",
       " array([ 0.11958205,  0.18253201,  0.48389972]),\n",
       " array([ 0.10958205,  0.19394574,  0.4697594 ]),\n",
       " array([ 0.10958205,  0.19394574,  0.4697594 ]),\n",
       " array([ 0.10958205,  0.19394574,  0.4697594 ]),\n",
       " array([ 0.09958205,  0.19949437,  0.46288225]),\n",
       " array([ 0.09958205,  0.19949437,  0.46288225])]"
      ]
     },
     "execution_count": 11,
     "metadata": {},
     "output_type": "execute_result"
    }
   ],
   "source": [
    "def y(w, x, activation=np.sign):\n",
    "    return activation(np.inner(w, x))\n",
    "\n",
    "def train_perceptron(x, d, learning_rate, epochs, activation=np.sign):\n",
    "    \"\"\"Initialize and train the weights of a perceptron with two variable inputs and one bias input. Return the history of weights.\"\"\"\n",
    "    w = np.random.rand(3)\n",
    "    w_hist = []\n",
    "    for epoch in range(epochs):\n",
    "        for x_k, d_k in zip(x, d):\n",
    "            w += learning_rate * (d_k - y(w, x_k, activation)) * x_k\n",
    "            w_hist.append(np.array(w))\n",
    "    return w_hist\n",
    "\n",
    "w_hist = train_perceptron(x_train, d_train, 0.005, 2)\n",
    "w = w_hist[-1]\n",
    "w_hist[:10]"
   ]
  },
  {
   "cell_type": "code",
   "execution_count": 12,
   "metadata": {
    "collapsed": false
   },
   "outputs": [
    {
     "data": {
      "text/plain": [
       "<matplotlib.text.Text at 0x82c9ac8>"
      ]
     },
     "execution_count": 12,
     "metadata": {},
     "output_type": "execute_result"
    },
    {
     "data": {
      "image/png": "[encoded data removed]",
      "text/plain": [
       "<matplotlib.figure.Figure at 0x3195668>"
      ]
     },
     "metadata": {},
     "output_type": "display_data"
    }
   ],
   "source": [
    "plt.plot(w_hist)\n",
    "plt.xlabel('Iterations')\n",
    "plt.ylabel('Weights')"
   ]
  },
  {
   "cell_type": "markdown",
   "metadata": {},
   "source": [
    "The learning rate was chosen empirically so that the weights settle to steady values with a relatively smooth curve."
   ]
  },
  {
   "cell_type": "code",
   "execution_count": 13,
   "metadata": {
    "collapsed": false
   },
   "outputs": [
    {
     "data": {
      "text/plain": [
       "array([[ 1.        , -0.3246912 , -1.6827035 ],\n",
       "       [ 1.        ,  0.92691491, -0.61013767],\n",
       "       [ 1.        , -0.03025152,  0.69339777],\n",
       "       ..., \n",
       "       [ 1.        , -0.32137251,  1.00501666],\n",
       "       [ 1.        , -0.12800887,  1.03395356],\n",
       "       [ 1.        ,  1.06041721, -1.54056994]])"
      ]
     },
     "execution_count": 13,
     "metadata": {},
     "output_type": "execute_result"
    }
   ],
   "source": [
    "x_test = np.random.normal(size=(1000, 3))\n",
    "x_test[:, 0] = 1.\n",
    "x_test"
   ]
  },
  {
   "cell_type": "code",
   "execution_count": 14,
   "metadata": {
    "collapsed": false
   },
   "outputs": [
    {
     "data": {
      "text/plain": [
       "array([-1., -1.,  1., -1., -1., -1.,  1., -1.,  1., -1.])"
      ]
     },
     "execution_count": 14,
     "metadata": {},
     "output_type": "execute_result"
    }
   ],
   "source": [
    "d_test = np.ones(1000)\n",
    "d_test[x_test[:, 1] + x_test[:, 2] < 0.5] = -1.\n",
    "d_test[:10]"
   ]
  },
  {
   "cell_type": "code",
   "execution_count": 15,
   "metadata": {
    "collapsed": false
   },
   "outputs": [
    {
     "name": "stdout",
     "output_type": "stream",
     "text": [
      "Accuracy on test set: 0.99\n"
     ]
    }
   ],
   "source": [
    "def get_accuracy(x, d, w, activation=np.sign):\n",
    "    predicted_d = y(w, x, activation)\n",
    "    predicted_d[predicted_d >= 0] = 1.\n",
    "    predicted_d[predicted_d < 0] = -1.\n",
    "    return np.mean(predicted_d == d)\n",
    "print 'Accuracy on test set:', get_accuracy(x_test, d_test, w)"
   ]
  },
  {
   "cell_type": "code",
   "execution_count": 16,
   "metadata": {
    "collapsed": false
   },
   "outputs": [
    {
     "data": {
      "text/plain": [
       "<matplotlib.patches.FancyArrow at 0x855d9b0>"
      ]
     },
     "execution_count": 16,
     "metadata": {},
     "output_type": "execute_result"
    },
    {
     "data": {
      "image/png": "[encoded data removed]",
      "text/plain": [
       "<matplotlib.figure.Figure at 0x8395860>"
      ]
     },
     "metadata": {},
     "output_type": "display_data"
    }
   ],
   "source": [
    "plt.scatter(x_train[:, 1][d_train == 1], x_train[:, 2][d_train == 1], c='g', label='d = 1')\n",
    "plt.scatter(x_train[:, 1][d_train == -1], x_train[:, 2][d_train == -1], c='b', label='d = -1')\n",
    "plt.xlabel('x1')\n",
    "plt.ylabel('x2')\n",
    "plt.legend(scatterpoints=1)\n",
    "\n",
    "plt.arrow(0, 0, w[1], w[2], color='r', width=0.01)"
   ]
  },
  {
   "cell_type": "markdown",
   "metadata": {},
   "source": [
    "The decision boundary of the perceptron is orthogonal to the weight vector (because $w^T x = 0$ separates between the two possible outputs). Therefore, the weight vector is \"optimal\" because it is approximately orthogonal to the boundary between the samples with positive and negative response - thus, the perceptron can separate between these two classes."
   ]
  },
  {
   "cell_type": "code",
   "execution_count": 17,
   "metadata": {
    "collapsed": false
   },
   "outputs": [
    {
     "name": "stdout",
     "output_type": "stream",
     "text": [
      "Accuracy with sign: 0.999\n",
      "Accuracy with sigmoid: 0.991\n",
      "Accuracy with tanh: 0.991\n",
      "Accuracy with step: 0.994\n",
      "Accuracy with picewise: 0.991\n"
     ]
    }
   ],
   "source": [
    "for activation in (np.sign, sigmoid, np.tanh, step, picewise):    \n",
    "    w_hist = train_perceptron(x_train, d_train, 0.005, 10, activation)\n",
    "    acc = get_accuracy(x_test, d_test, w_hist[-1], activation)\n",
    "    print \"Accuracy with {}: {}\".format(activation.__name__, acc)"
   ]
  },
  {
   "cell_type": "markdown",
   "metadata": {},
   "source": [
    "Of course, this is not a valid comparison because the hyperparameters and the learning process were not fine-tuned for each activation function."
   ]
  },
  {
   "cell_type": "markdown",
   "metadata": {},
   "source": [
    "## 4. Linear seperability"
   ]
  },
  {
   "cell_type": "code",
   "execution_count": 18,
   "metadata": {
    "collapsed": false
   },
   "outputs": [
    {
     "data": {
      "text/plain": [
       "[(array([ 1.,  0.,  0.]), 0.0),\n",
       " (array([ 1.,  0.,  1.]), 1.0),\n",
       " (array([ 1.,  1.,  0.]), 1.0),\n",
       " (array([ 1.,  1.,  1.]), 0.0)]"
      ]
     },
     "execution_count": 18,
     "metadata": {},
     "output_type": "execute_result"
    }
   ],
   "source": [
    "x_xor = np.array([[1., 0., 0.], [1., 0., 1.], [1., 1., 0.], [1., 1., 1.]])\n",
    "d_xor = np.array([0., 1., 1., 0.])\n",
    "zip(x_xor, d_xor)"
   ]
  },
  {
   "cell_type": "code",
   "execution_count": 19,
   "metadata": {
    "collapsed": false
   },
   "outputs": [
    {
     "data": {
      "text/plain": [
       "[array([ 0.81038977,  0.8405547 ,  0.99632609]),\n",
       " array([ 0.81038977,  0.8405547 ,  0.99632609]),\n",
       " array([ 0.81038977,  0.8405547 ,  0.99632609]),\n",
       " array([ 0.80038977,  0.8305547 ,  0.98632609]),\n",
       " array([ 0.79038977,  0.8305547 ,  0.98632609]),\n",
       " array([ 0.79038977,  0.8305547 ,  0.98632609]),\n",
       " array([ 0.79038977,  0.8305547 ,  0.98632609]),\n",
       " array([ 0.78038977,  0.8205547 ,  0.97632609]),\n",
       " array([ 0.77038977,  0.8205547 ,  0.97632609]),\n",
       " array([ 0.77038977,  0.8205547 ,  0.97632609])]"
      ]
     },
     "execution_count": 19,
     "metadata": {},
     "output_type": "execute_result"
    }
   ],
   "source": [
    "w_hist = train_perceptron(x_xor, d_xor, 0.01, 100)\n",
    "w_hist[:10]"
   ]
  },
  {
   "cell_type": "code",
   "execution_count": 20,
   "metadata": {
    "collapsed": false
   },
   "outputs": [
    {
     "data": {
      "text/plain": [
       "<matplotlib.text.Text at 0x806a5f8>"
      ]
     },
     "execution_count": 20,
     "metadata": {},
     "output_type": "execute_result"
    },
    {
     "data": {
      "image/png": "[encoded data removed]",
      "text/plain": [
       "<matplotlib.figure.Figure at 0x8395208>"
      ]
     },
     "metadata": {},
     "output_type": "display_data"
    }
   ],
   "source": [
    "plt.plot(w_hist)\n",
    "plt.xlabel('Iterations')\n",
    "plt.ylabel('Weights')"
   ]
  },
  {
   "cell_type": "code",
   "execution_count": 21,
   "metadata": {
    "collapsed": false
   },
   "outputs": [
    {
     "data": {
      "text/plain": [
       "<matplotlib.legend.Legend at 0x87169e8>"
      ]
     },
     "execution_count": 21,
     "metadata": {},
     "output_type": "execute_result"
    },
    {
     "data": {
      "image/png": "[encoded data removed]",
      "text/plain": [
       "<matplotlib.figure.Figure at 0x8395e80>"
      ]
     },
     "metadata": {},
     "output_type": "display_data"
    }
   ],
   "source": [
    "plt.scatter(x_xor[:, 1][d_xor == 0], x_xor[:, 2][d_xor == 0], c='r', label='Response 0')\n",
    "plt.scatter(x_xor[:, 1][d_xor == 1], x_xor[:, 2][d_xor == 1], c='b', label='Response 1')\n",
    "plt.xlabel('x1')\n",
    "plt.ylabel('x2')\n",
    "plt.legend(loc='center', scatterpoints=1)"
   ]
  },
  {
   "cell_type": "markdown",
   "metadata": {},
   "source": [
    "As can be seen in the plot, XOR is not linearly separable: There is no possible linear decision boundary which separates the inputs with response 0 from the inputs with response 1."
   ]
  },
  {
   "cell_type": "code",
   "execution_count": null,
   "metadata": {
    "collapsed": true
   },
   "outputs": [],
   "source": []
  }
 ],
 "metadata": {
  "kernelspec": {
   "display_name": "Python 2",
   "language": "python",
   "name": "python2"
  },
  "language_info": {
   "codemirror_mode": {
    "name": "ipython",
    "version": 2
   },
   "file_extension": ".py",
   "mimetype": "text/x-python",
   "name": "python",
   "nbconvert_exporter": "python",
   "pygments_lexer": "ipython2",
   "version": "2.7.11"
  }
 },
 "nbformat": 4,
 "nbformat_minor": 0
}
