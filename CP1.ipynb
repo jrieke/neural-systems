{
 "cells": [
  {
   "cell_type": "code",
   "execution_count": 1,
   "metadata": {
    "collapsed": true
   },
   "outputs": [],
   "source": [
    "import numpy as np\n",
    "import matplotlib.pyplot as plt\n",
    "%matplotlib inline"
   ]
  },
  {
   "cell_type": "markdown",
   "metadata": {},
   "source": [
    "## 1. McCulloch-Pitts Neuron"
   ]
  },
  {
   "cell_type": "code",
   "execution_count": 2,
   "metadata": {
    "collapsed": true
   },
   "outputs": [],
   "source": [
    "def y(w, x):\n",
    "    return np.sign(np.inner(w, x))"
   ]
  },
  {
   "cell_type": "code",
   "execution_count": 3,
   "metadata": {
    "collapsed": false
   },
   "outputs": [],
   "source": [
    "w = np.array([-3, 2, 2])"
   ]
  },
  {
   "cell_type": "code",
   "execution_count": 4,
   "metadata": {
    "collapsed": false
   },
   "outputs": [
    {
     "data": {
      "text/plain": [
       "1"
      ]
     },
     "execution_count": 4,
     "metadata": {},
     "output_type": "execute_result"
    }
   ],
   "source": [
    "x1 = 1\n",
    "x2 = 1\n",
    "y(w, np.array([1, x1, x2]))"
   ]
  },
  {
   "cell_type": "code",
   "execution_count": 5,
   "metadata": {
    "collapsed": false
   },
   "outputs": [
    {
     "data": {
      "text/plain": [
       "-1"
      ]
     },
     "execution_count": 5,
     "metadata": {},
     "output_type": "execute_result"
    }
   ],
   "source": [
    "x1 = 1\n",
    "x2 = -1\n",
    "y(w, np.array([1, x1, x2]))"
   ]
  },
  {
   "cell_type": "code",
   "execution_count": 6,
   "metadata": {
    "collapsed": false
   },
   "outputs": [
    {
     "data": {
      "text/plain": [
       "-1"
      ]
     },
     "execution_count": 6,
     "metadata": {},
     "output_type": "execute_result"
    }
   ],
   "source": [
    "x1 = -1\n",
    "x2 = 1\n",
    "y(w, np.array([1, x1, x2]))"
   ]
  },
  {
   "cell_type": "code",
   "execution_count": 7,
   "metadata": {
    "collapsed": false
   },
   "outputs": [
    {
     "data": {
      "text/plain": [
       "-1"
      ]
     },
     "execution_count": 7,
     "metadata": {},
     "output_type": "execute_result"
    }
   ],
   "source": [
    "x1 = -1\n",
    "x2 = -1\n",
    "y(w, np.array([1, x1, x2]))"
   ]
  },
  {
   "cell_type": "markdown",
   "metadata": {},
   "source": [
    "The outputs above show that the neuron yields 1 if both inputs are 1 and -1 otherwise. This is an AND operation."
   ]
  },
  {
   "cell_type": "markdown",
   "metadata": {},
   "source": [
    "## 2. Activation functions"
   ]
  },
  {
   "cell_type": "code",
   "execution_count": 8,
   "metadata": {
    "collapsed": false
   },
   "outputs": [
    {
     "data": {
      "text/plain": [
       "(-5, 5)"
      ]
     },
     "execution_count": 8,
     "metadata": {},
     "output_type": "execute_result"
    },
    {
     "data": {
      "image/png": "[encoded data removed]",
      "text/plain": [
       "<matplotlib.figure.Figure at 0x7ed05f8>"
      ]
     },
     "metadata": {},
     "output_type": "display_data"
    }
   ],
   "source": [
    "x = np.linspace(-5, 5, 1000)\n",
    "\n",
    "a = 1\n",
    "def sigmoid(x, a=1):\n",
    "    return 2. / (1 + np.exp(-a*x)) - 1\n",
    "plt.plot(x, sigmoid(x, a), label='Sigmoid (a={})'.format(a))\n",
    "\n",
    "plt.plot(x, np.tanh(x), label='Tanh')\n",
    "\n",
    "def step(x):    \n",
    "    y = np.zeros_like(x)\n",
    "    y[x >= 0] = 1.\n",
    "    y[x < 0] = -1\n",
    "    return y\n",
    "plt.plot(x, step(x), label='Step')\n",
    "\n",
    "def picewise(x):    \n",
    "    y = np.array(x)\n",
    "    y[x >= 1] = 1.\n",
    "    y[x <= -1] = -1\n",
    "    return y\n",
    "plt.plot(x, picewise(x), label='Picewise')\n",
    "\n",
    "plt.xlabel('x')\n",
    "plt.ylabel('y')\n",
    "plt.legend(loc='lower right')\n",
    "plt.xlim(-5, 5)"
   ]
  },
  {
   "cell_type": "markdown",
   "metadata": {},
   "source": [
    "Interpretation of parameter a: The higher a, the steeper is the sigmoid function."
   ]
  },
  {
   "cell_type": "markdown",
   "metadata": {},
   "source": [
    "## 3. Rosenblatt's perceptron"
   ]
  },
  {
   "cell_type": "code",
   "execution_count": 9,
   "metadata": {
    "collapsed": false
   },
   "outputs": [
    {
     "data": {
      "text/plain": [
       "array([[ 1.        ,  0.95362306, -1.73219784],\n",
       "       [ 1.        ,  1.08438743,  0.35588277],\n",
       "       [ 1.        , -0.93016481,  1.76342147],\n",
       "       ..., \n",
       "       [ 1.        ,  0.48104308,  0.5018191 ],\n",
       "       [ 1.        , -1.77970761,  0.46930288],\n",
       "       [ 1.        ,  0.71000997,  0.34800384]])"
      ]
     },
     "execution_count": 9,
     "metadata": {},
     "output_type": "execute_result"
    }
   ],
   "source": [
    "x_train = np.random.normal(size=(1000, 3))\n",
    "x_train[:, 0] = 1.\n",
    "x_train"
   ]
  },
  {
   "cell_type": "code",
   "execution_count": 10,
   "metadata": {
    "collapsed": false
   },
   "outputs": [
    {
     "data": {
      "text/plain": [
       "array([-1.,  1.,  1., -1.,  1.,  1.,  1.,  1., -1.,  1.])"
      ]
     },
     "execution_count": 10,
     "metadata": {},
     "output_type": "execute_result"
    }
   ],
   "source": [
    "d_train = np.ones(1000)\n",
    "d_train[x_train[:, 1] + x_train[:, 2] < 0.5] = -1.\n",
    "d_train[:10]"
   ]
  },
  {
   "cell_type": "code",
   "execution_count": 11,
   "metadata": {
    "collapsed": false
   },
   "outputs": [
    {
     "data": {
      "text/plain": [
       "[array([ 0.53231239,  0.60899229,  0.80557238]),\n",
       " array([ 0.53231239,  0.60899229,  0.80557238]),\n",
       " array([ 0.53231239,  0.60899229,  0.80557238]),\n",
       " array([ 0.53231239,  0.60899229,  0.80557238]),\n",
       " array([ 0.53231239,  0.60899229,  0.80557238]),\n",
       " array([ 0.53231239,  0.60899229,  0.80557238]),\n",
       " array([ 0.53231239,  0.60899229,  0.80557238]),\n",
       " array([ 0.53231239,  0.60899229,  0.80557238]),\n",
       " array([ 0.53231239,  0.60899229,  0.80557238]),\n",
       " array([ 0.53231239,  0.60899229,  0.80557238])]"
      ]
     },
     "execution_count": 11,
     "metadata": {},
     "output_type": "execute_result"
    }
   ],
   "source": [
    "def y(w, x, activation=np.sign):\n",
    "    return activation(np.inner(w, x))\n",
    "\n",
    "def train_perceptron(x, d, learning_rate, epochs, activation=np.sign):\n",
    "    \"\"\"Initialize and train the weights of a perceptron with two variable inputs and one bias input. Return the history of weights.\"\"\"\n",
    "    w = np.random.rand(3)\n",
    "    w_hist = []\n",
    "    for epoch in range(epochs):\n",
    "        for x_k, d_k in zip(x, d):\n",
    "            w += learning_rate * (d_k - y(w, x_k, activation)) * x_k\n",
    "            w_hist.append(np.array(w))\n",
    "    return w_hist\n",
    "\n",
    "w_hist = train_perceptron(x_train, d_train, 0.005, 2)\n",
    "w = w_hist[-1]\n",
    "w_hist[:10]"
   ]
  },
  {
   "cell_type": "code",
   "execution_count": 12,
   "metadata": {
    "collapsed": false
   },
   "outputs": [
    {
     "data": {
      "text/plain": [
       "<matplotlib.text.Text at 0x8276ac8>"
      ]
     },
     "execution_count": 12,
     "metadata": {},
     "output_type": "execute_result"
    },
    {
     "data": {
      "image/png": "[encoded data removed]",
      "text/plain": [
       "<matplotlib.figure.Figure at 0x7ee04a8>"
      ]
     },
     "metadata": {},
     "output_type": "display_data"
    }
   ],
   "source": [
    "plt.plot(w_hist)\n",
    "plt.xlabel('Iterations')\n",
    "plt.ylabel('Weights')"
   ]
  },
  {
   "cell_type": "markdown",
   "metadata": {},
   "source": [
    "The learning rate was chosen empirically so that the weights settle to steady values with a relatively smooth curve."
   ]
  },
  {
   "cell_type": "code",
   "execution_count": 13,
   "metadata": {
    "collapsed": false
   },
   "outputs": [
    {
     "data": {
      "text/plain": [
       "array([[ 1.        , -2.02759795,  1.51032393],\n",
       "       [ 1.        , -0.70039997,  0.31614166],\n",
       "       [ 1.        ,  0.52987577,  0.29292941],\n",
       "       ..., \n",
       "       [ 1.        , -1.20777525, -0.35480653],\n",
       "       [ 1.        , -0.41661083, -0.83016366],\n",
       "       [ 1.        , -1.81827786, -0.22064837]])"
      ]
     },
     "execution_count": 13,
     "metadata": {},
     "output_type": "execute_result"
    }
   ],
   "source": [
    "x_test = np.random.normal(size=(1000, 3))\n",
    "x_test[:, 0] = 1.\n",
    "x_test"
   ]
  },
  {
   "cell_type": "code",
   "execution_count": 14,
   "metadata": {
    "collapsed": false
   },
   "outputs": [
    {
     "data": {
      "text/plain": [
       "array([-1., -1.,  1.,  1., -1., -1.,  1., -1.,  1., -1.])"
      ]
     },
     "execution_count": 14,
     "metadata": {},
     "output_type": "execute_result"
    }
   ],
   "source": [
    "d_test = np.ones(1000)\n",
    "d_test[x_test[:, 1] + x_test[:, 2] < 0.5] = -1.\n",
    "d_test[:10]"
   ]
  },
  {
   "cell_type": "code",
   "execution_count": 15,
   "metadata": {
    "collapsed": false
   },
   "outputs": [
    {
     "name": "stdout",
     "output_type": "stream",
     "text": [
      "Accuracy on test set: 0.994\n"
     ]
    }
   ],
   "source": [
    "def get_accuracy(x, d, w, activation=np.sign):\n",
    "    predicted_d = y(w, x, activation)\n",
    "    predicted_d[predicted_d >= 0] = 1.\n",
    "    predicted_d[predicted_d < 0] = -1.\n",
    "    return np.mean(predicted_d == d)\n",
    "print 'Accuracy on test set:', get_accuracy(x_test, d_test, w)"
   ]
  },
  {
   "cell_type": "code",
   "execution_count": 16,
   "metadata": {
    "collapsed": false
   },
   "outputs": [
    {
     "data": {
      "text/plain": [
       "<matplotlib.patches.FancyArrow at 0x85c19b0>"
      ]
     },
     "execution_count": 16,
     "metadata": {},
     "output_type": "execute_result"
    },
    {
     "data": {
      "image/png": "[encoded data removed]",
      "text/plain": [
       "<matplotlib.figure.Figure at 0x830c048>"
      ]
     },
     "metadata": {},
     "output_type": "display_data"
    }
   ],
   "source": [
    "plt.scatter(x_train[:, 1][d_train == 1], x_train[:, 2][d_train == 1], c='g', label='d = 1')\n",
    "plt.scatter(x_train[:, 1][d_train == -1], x_train[:, 2][d_train == -1], c='b', label='d = -1')\n",
    "plt.xlabel('x1')\n",
    "plt.ylabel('x2')\n",
    "plt.legend(scatterpoints=1)\n",
    "\n",
    "plt.arrow(0, 0, w[1], w[2], color='r', width=0.01)"
   ]
  },
  {
   "cell_type": "markdown",
   "metadata": {},
   "source": [
    "The decision boundary of the perceptron is orthogonal to the weight vector (because $w^T x = 0$ separates between the two possible outputs). Therefore, the weight vector is \"optimal\" because it is approximately orthogonal to the boundary between the samples with positive and negative response - thus, the perceptron can separate between these two classes."
   ]
  },
  {
   "cell_type": "code",
   "execution_count": 17,
   "metadata": {
    "collapsed": false
   },
   "outputs": [
    {
     "name": "stdout",
     "output_type": "stream",
     "text": [
      "Accuracy with sign: 0.998\n",
      "Accuracy with sigmoid: 0.982\n",
      "Accuracy with tanh: 0.985\n",
      "Accuracy with step: 0.995\n",
      "Accuracy with picewise: 0.986\n"
     ]
    }
   ],
   "source": [
    "for activation in (np.sign, sigmoid, np.tanh, step, picewise):    \n",
    "    w_hist = train_perceptron(x_train, d_train, 0.005, 10, activation)\n",
    "    acc = get_accuracy(x_test, d_test, w_hist[-1], activation)\n",
    "    print \"Accuracy with {}: {}\".format(activation.__name__, acc)"
   ]
  },
  {
   "cell_type": "markdown",
   "metadata": {},
   "source": [
    "Of course, this is not a valid comparison because the hyperparameters and the learning process were not fine-tuned for each activation function."
   ]
  },
  {
   "cell_type": "markdown",
   "metadata": {},
   "source": [
    "## 4. Linear seperability"
   ]
  },
  {
   "cell_type": "code",
   "execution_count": 18,
   "metadata": {
    "collapsed": false
   },
   "outputs": [
    {
     "data": {
      "text/plain": [
       "[(array([ 1.,  0.,  0.]), 0.0),\n",
       " (array([ 1.,  0.,  1.]), 1.0),\n",
       " (array([ 1.,  1.,  0.]), 1.0),\n",
       " (array([ 1.,  1.,  1.]), 0.0)]"
      ]
     },
     "execution_count": 18,
     "metadata": {},
     "output_type": "execute_result"
    }
   ],
   "source": [
    "x_xor = np.array([[1., 0., 0.], [1., 0., 1.], [1., 1., 0.], [1., 1., 1.]])\n",
    "d_xor = np.array([0., 1., 1., 0.])\n",
    "zip(x_xor, d_xor)"
   ]
  },
  {
   "cell_type": "code",
   "execution_count": 19,
   "metadata": {
    "collapsed": false
   },
   "outputs": [
    {
     "data": {
      "text/plain": [
       "[array([ 0.41356605,  0.34985061,  0.45290525]),\n",
       " array([ 0.41356605,  0.34985061,  0.45290525]),\n",
       " array([ 0.41356605,  0.34985061,  0.45290525]),\n",
       " array([ 0.40356605,  0.33985061,  0.44290525]),\n",
       " array([ 0.39356605,  0.33985061,  0.44290525]),\n",
       " array([ 0.39356605,  0.33985061,  0.44290525]),\n",
       " array([ 0.39356605,  0.33985061,  0.44290525]),\n",
       " array([ 0.38356605,  0.32985061,  0.43290525]),\n",
       " array([ 0.37356605,  0.32985061,  0.43290525]),\n",
       " array([ 0.37356605,  0.32985061,  0.43290525])]"
      ]
     },
     "execution_count": 19,
     "metadata": {},
     "output_type": "execute_result"
    }
   ],
   "source": [
    "w_hist = train_perceptron(x_xor, d_xor, 0.01, 100)\n",
    "w_hist[:10]"
   ]
  },
  {
   "cell_type": "code",
   "execution_count": 20,
   "metadata": {
    "collapsed": false
   },
   "outputs": [
    {
     "data": {
      "text/plain": [
       "<matplotlib.text.Text at 0x803e390>"
      ]
     },
     "execution_count": 20,
     "metadata": {},
     "output_type": "execute_result"
    },
    {
     "data": {
      "image/png": "[encoded data removed]",
      "text/plain": [
       "<matplotlib.figure.Figure at 0x804aa90>"
      ]
     },
     "metadata": {},
     "output_type": "display_data"
    }
   ],
   "source": [
    "plt.plot(w_hist)\n",
    "plt.xlabel('Iterations')\n",
    "plt.ylabel('Weights')"
   ]
  },
  {
   "cell_type": "code",
   "execution_count": 21,
   "metadata": {
    "collapsed": false
   },
   "outputs": [
    {
     "data": {
      "text/plain": [
       "<matplotlib.legend.Legend at 0x87a0ac8>"
      ]
     },
     "execution_count": 21,
     "metadata": {},
     "output_type": "execute_result"
    },
    {
     "data": {
      "image/png": "[encoded data removed]",
      "text/plain": [
       "<matplotlib.figure.Figure at 0x7f93b00>"
      ]
     },
     "metadata": {},
     "output_type": "display_data"
    }
   ],
   "source": [
    "plt.scatter(x_xor[:, 1][d_xor == 0], x_xor[:, 2][d_xor == 0], c='r', label='Response 0')\n",
    "plt.scatter(x_xor[:, 1][d_xor == 1], x_xor[:, 2][d_xor == 1], c='b', label='Response 1')\n",
    "plt.xlabel('x1')\n",
    "plt.ylabel('x2')\n",
    "plt.legend(loc='center', scatterpoints=1)"
   ]
  },
  {
   "cell_type": "markdown",
   "metadata": {},
   "source": [
    "As can be seen in the plot, XOR is not linearly separable: There is no possible linear decision boundary which separates the inputs with response 0 from the inputs with response 1."
   ]
  },
  {
   "cell_type": "code",
   "execution_count": null,
   "metadata": {
    "collapsed": true
   },
   "outputs": [],
   "source": []
  }
 ],
 "metadata": {
  "kernelspec": {
   "display_name": "Python 2",
   "language": "python",
   "name": "python2"
  },
  "language_info": {
   "codemirror_mode": {
    "name": "ipython",
    "version": 2
   },
   "file_extension": ".py",
   "mimetype": "text/x-python",
   "name": "python",
   "nbconvert_exporter": "python",
   "pygments_lexer": "ipython2",
   "version": "2.7.11"
  }
 },
 "nbformat": 4,
 "nbformat_minor": 0
}
